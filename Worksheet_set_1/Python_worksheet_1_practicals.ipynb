{
 "cells": [
  {
   "cell_type": "markdown",
   "id": "dd269cdf",
   "metadata": {},
   "source": [
    "# 11.find the factorial of a number."
   ]
  },
  {
   "cell_type": "code",
   "execution_count": 41,
   "id": "ea874050",
   "metadata": {},
   "outputs": [
    {
     "name": "stdout",
     "output_type": "stream",
     "text": [
      "Enter Number:7\n",
      "Factorial= 5040\n"
     ]
    }
   ],
   "source": [
    "i=int(input(\"Enter Number:\"))\n",
    "fact=1\n",
    "while (i>0):\n",
    "    fact=fact*i\n",
    "    i=i-1\n",
    "print(\"Factorial=\",fact)"
   ]
  },
  {
   "cell_type": "markdown",
   "id": "68e85cf6",
   "metadata": {},
   "source": [
    "# 12.find whether a number is prime or composite."
   ]
  },
  {
   "cell_type": "code",
   "execution_count": 1,
   "id": "8865a82e",
   "metadata": {},
   "outputs": [
    {
     "name": "stdout",
     "output_type": "stream",
     "text": [
      "Enter Number:8\n",
      "8 is composite number\n"
     ]
    }
   ],
   "source": [
    "n=int(input(\"Enter Number:\"))\n",
    "for i in range(2,n):\n",
    "    if n%i == 0:\n",
    "        print(n,\"is composite number\")\n",
    "        break\n",
    "else:\n",
    "    print(n,\"is prime number\")"
   ]
  },
  {
   "cell_type": "markdown",
   "id": "35952d64",
   "metadata": {},
   "source": [
    "# 13.check whether a given string is palindrome or not."
   ]
  },
  {
   "cell_type": "code",
   "execution_count": 2,
   "id": "4cb62b29",
   "metadata": {},
   "outputs": [
    {
     "name": "stdout",
     "output_type": "stream",
     "text": [
      "Enter String Value:mom\n",
      "mom is Palindrome\n"
     ]
    }
   ],
   "source": [
    "a=input(\"Enter String Value:\")\n",
    "b=a[-1::-1]\n",
    "if (a==b):\n",
    "    print(a,\"is Palindrome\")\n",
    "else:\n",
    "    print(a,\"is not Palindrome\")"
   ]
  },
  {
   "cell_type": "markdown",
   "id": "74eb6000",
   "metadata": {},
   "source": [
    "# 14.get the third side of right-angled triangle from two given sides."
   ]
  },
  {
   "cell_type": "code",
   "execution_count": 3,
   "id": "32abe958",
   "metadata": {},
   "outputs": [
    {
     "name": "stdout",
     "output_type": "stream",
     "text": [
      "Enter Base of Triangle:5\n",
      "Enter Height of Triangle:4\n",
      "Length of the Hypotenuse is 10.0\n"
     ]
    }
   ],
   "source": [
    "base=float(input(\"Enter Base of Triangle:\"))\n",
    "height=float(input(\"Enter Height of Triangle:\"))\n",
    "print(\"Length of the Hypotenuse is\",(base*height/2))"
   ]
  },
  {
   "cell_type": "markdown",
   "id": "7271857e",
   "metadata": {},
   "source": [
    "# 15.print the frequency of each of the characters present in a given string."
   ]
  },
  {
   "cell_type": "code",
   "execution_count": 4,
   "id": "1d7ed789",
   "metadata": {},
   "outputs": [
    {
     "name": "stdout",
     "output_type": "stream",
     "text": [
      "Enter a Stringcharacters\n",
      "characters\n",
      "{'c': 2, 'h': 1, 'a': 2, 'r': 2, 't': 1, 'e': 1, 's': 1}\n"
     ]
    }
   ],
   "source": [
    "str=input(\"Enter a String\")\n",
    "print(str)\n",
    "count={}\n",
    "for x in str:\n",
    "    if x in count.keys():\n",
    "        count[x]+=1\n",
    "    else:\n",
    "        count[x]=1\n",
    "print(count)"
   ]
  },
  {
   "cell_type": "code",
   "execution_count": null,
   "id": "61898b45",
   "metadata": {},
   "outputs": [],
   "source": []
  }
 ],
 "metadata": {
  "kernelspec": {
   "display_name": "Python 3 (ipykernel)",
   "language": "python",
   "name": "python3"
  },
  "language_info": {
   "codemirror_mode": {
    "name": "ipython",
    "version": 3
   },
   "file_extension": ".py",
   "mimetype": "text/x-python",
   "name": "python",
   "nbconvert_exporter": "python",
   "pygments_lexer": "ipython3",
   "version": "3.9.7"
  }
 },
 "nbformat": 4,
 "nbformat_minor": 5
}
